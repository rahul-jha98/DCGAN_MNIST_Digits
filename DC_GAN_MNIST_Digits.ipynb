{
  "nbformat": 4,
  "nbformat_minor": 0,
  "metadata": {
    "colab": {
      "name": "DC-GAN_MNIST_Digits.ipynb",
      "provenance": []
    },
    "kernelspec": {
      "name": "python3",
      "display_name": "Python 3"
    },
    "accelerator": "GPU"
  },
  "cells": [
    {
      "cell_type": "code",
      "metadata": {
        "id": "7hYArpnn32tH",
        "colab_type": "code",
        "colab": {}
      },
      "source": [
        "import numpy as np\n",
        "import matplotlib.pyplot as plt\n",
        "import os\n",
        "\n",
        "import tensorflow as tf\n",
        "from tensorflow.keras import layers\n",
        "from tensorflow.keras.layers import Conv2D, LeakyReLU, Dropout, Flatten, \\\n",
        "                                    Dense, Dropout, Conv2DTranspose,\\\n",
        "                                    BatchNormalization   \n",
        "\n",
        "\n",
        "from IPython import display                                 "
      ],
      "execution_count": 0,
      "outputs": []
    },
    {
      "cell_type": "markdown",
      "metadata": {
        "id": "IFt9JYMP4CP-",
        "colab_type": "text"
      },
      "source": [
        "## Loading the Dataset"
      ]
    },
    {
      "cell_type": "code",
      "metadata": {
        "id": "VPPHiA-b37_L",
        "colab_type": "code",
        "outputId": "8f403f8c-6d78-48ef-f8b2-ad89ff4fd41a",
        "colab": {
          "base_uri": "https://localhost:8080/",
          "height": 51
        }
      },
      "source": [
        "(train_images, _), (_, _) = tf.keras.datasets.mnist.load_data()"
      ],
      "execution_count": 0,
      "outputs": [
        {
          "output_type": "stream",
          "text": [
            "Downloading data from https://storage.googleapis.com/tensorflow/tf-keras-datasets/mnist.npz\n",
            "11493376/11490434 [==============================] - 0s 0us/step\n"
          ],
          "name": "stdout"
        }
      ]
    },
    {
      "cell_type": "code",
      "metadata": {
        "id": "8eN1HmWr4ERT",
        "colab_type": "code",
        "colab": {}
      },
      "source": [
        "train_images = train_images.reshape(train_images.shape[0], 28, 28, 1)\\\n",
        "                           .astype('float32')\n",
        "                           \n",
        "train_images = train_images/127.5 # Scale values ranging from 0-255 to 0-2\n",
        "train_images = train_images - 1   # Scale values from 0-2 to -1 to 1"
      ],
      "execution_count": 0,
      "outputs": []
    },
    {
      "cell_type": "code",
      "metadata": {
        "id": "gMWs9smF4GoP",
        "colab_type": "code",
        "colab": {}
      },
      "source": [
        "## Size of the Dataset\n",
        "DATASET_SIZE = train_images.shape[0]\n",
        "\n",
        "## Getting the Width, Height and Columns in the Train Images\n",
        "W, H, C = train_images.shape[1:]  \n",
        "\n",
        "## Setting the batch size\n",
        "BATCH_SIZE = 256\n",
        "\n",
        "## Setting the latent noise dimension\n",
        "latent_noise_dim = 100"
      ],
      "execution_count": 0,
      "outputs": []
    },
    {
      "cell_type": "code",
      "metadata": {
        "id": "UOo0PphL4mRD",
        "colab_type": "code",
        "colab": {}
      },
      "source": [
        "train_dataset = tf.data.Dataset.from_tensor_slices(train_images)\\\n",
        "                               .shuffle(DATASET_SIZE)\\\n",
        "                               .batch(BATCH_SIZE)"
      ],
      "execution_count": 0,
      "outputs": []
    },
    {
      "cell_type": "markdown",
      "metadata": {
        "id": "cQrFvF4l7RXF",
        "colab_type": "text"
      },
      "source": [
        "## Creating the Models"
      ]
    },
    {
      "cell_type": "markdown",
      "metadata": {
        "id": "vHZGGeYx7U92",
        "colab_type": "text"
      },
      "source": [
        "### The Generator"
      ]
    },
    {
      "cell_type": "markdown",
      "metadata": {
        "id": "zzlILdBH7dkG",
        "colab_type": "text"
      },
      "source": [
        "For the Generator we will begin with a latent noise as input, pass it to Dense Layer and use Conv2DTranspose (Unsampling) Layers to produce an Image of the size same as our train samples. \n",
        "\n",
        "For all the layers we will use LeakyReLU activation except the last one which will have tanh to give value between -1 to 1"
      ]
    },
    {
      "cell_type": "code",
      "metadata": {
        "id": "k1ePhXHO5sy2",
        "colab_type": "code",
        "colab": {}
      },
      "source": [
        "def create_generator(latent_noise_dim):\n",
        "  model = tf.keras.Sequential()\n",
        "\n",
        "  model.add(Dense(7 * 7 * 256, use_bias=False, input_shape=(latent_noise_dim,)))\n",
        "  model.add(BatchNormalization())\n",
        "  model.add(LeakyReLU())\n",
        "  \n",
        "  model.add(layers.Reshape((7, 7, 256)))\n",
        "  ## By now the output is of the size (BatchSize, 7, 7, 256)\n",
        "\n",
        "  model.add(Conv2DTranspose(128, (5,5), strides=(1,1), padding = 'same', \n",
        "                            use_bias=False))\n",
        "  model.add(BatchNormalization())\n",
        "  model.add(LeakyReLU())\n",
        "  ## By now the ourput is of the size (BatchSize, 7, 7, 128)\n",
        "\n",
        "  model.add(Conv2DTranspose(64, (5,5), strides=(2,2), padding = 'same', \n",
        "                            use_bias=False))\n",
        "  model.add(BatchNormalization())\n",
        "  model.add(LeakyReLU())\n",
        "  ## By now the ourput is of the size (BatchSize, 14, 14, 64)\n",
        "\n",
        "  model.add(Conv2DTranspose(1, (5,5), strides=(2,2), padding = 'same', \n",
        "                            use_bias=False, activation = 'tanh'))\n",
        "  ## By now the outpur is of the size (BatchSize, 28, 28, 1) with values\n",
        "  ## in the range -1 to 1 thus matching properties of normalized train images\n",
        "\n",
        "  return model"
      ],
      "execution_count": 0,
      "outputs": []
    },
    {
      "cell_type": "code",
      "metadata": {
        "id": "OgSujn-DBKK9",
        "colab_type": "code",
        "outputId": "03900b05-c874-4e2c-d107-2a32756d6402",
        "colab": {
          "base_uri": "https://localhost:8080/",
          "height": 527
        }
      },
      "source": [
        "## Viewing the Generator Model\n",
        "generator = create_generator(latent_noise_dim)\n",
        "generator.summary()"
      ],
      "execution_count": 0,
      "outputs": [
        {
          "output_type": "stream",
          "text": [
            "Model: \"sequential\"\n",
            "_________________________________________________________________\n",
            "Layer (type)                 Output Shape              Param #   \n",
            "=================================================================\n",
            "dense (Dense)                (None, 12544)             1254400   \n",
            "_________________________________________________________________\n",
            "batch_normalization (BatchNo (None, 12544)             50176     \n",
            "_________________________________________________________________\n",
            "leaky_re_lu (LeakyReLU)      (None, 12544)             0         \n",
            "_________________________________________________________________\n",
            "reshape (Reshape)            (None, 7, 7, 256)         0         \n",
            "_________________________________________________________________\n",
            "conv2d_transpose (Conv2DTran (None, 7, 7, 128)         819200    \n",
            "_________________________________________________________________\n",
            "batch_normalization_1 (Batch (None, 7, 7, 128)         512       \n",
            "_________________________________________________________________\n",
            "leaky_re_lu_1 (LeakyReLU)    (None, 7, 7, 128)         0         \n",
            "_________________________________________________________________\n",
            "conv2d_transpose_1 (Conv2DTr (None, 14, 14, 64)        204800    \n",
            "_________________________________________________________________\n",
            "batch_normalization_2 (Batch (None, 14, 14, 64)        256       \n",
            "_________________________________________________________________\n",
            "leaky_re_lu_2 (LeakyReLU)    (None, 14, 14, 64)        0         \n",
            "_________________________________________________________________\n",
            "conv2d_transpose_2 (Conv2DTr (None, 28, 28, 1)         1600      \n",
            "=================================================================\n",
            "Total params: 2,330,944\n",
            "Trainable params: 2,305,472\n",
            "Non-trainable params: 25,472\n",
            "_________________________________________________________________\n"
          ],
          "name": "stdout"
        }
      ]
    },
    {
      "cell_type": "markdown",
      "metadata": {
        "id": "mOt0kMGsBmHG",
        "colab_type": "text"
      },
      "source": [
        "#### Creating an Image from the untrained Generator"
      ]
    },
    {
      "cell_type": "code",
      "metadata": {
        "id": "ySOwMiizBaCZ",
        "colab_type": "code",
        "outputId": "e3081d3f-5d89-4a00-c683-8a52cd44db10",
        "colab": {
          "base_uri": "https://localhost:8080/",
          "height": 282
        }
      },
      "source": [
        "noise = tf.random.normal([1, 100])\n",
        "generator_output = generator(noise)\n",
        "\n",
        "plt.imshow((generator_output[0, :, :, 0] + 1) * 127.5, cmap ='gray')"
      ],
      "execution_count": 0,
      "outputs": [
        {
          "output_type": "execute_result",
          "data": {
            "text/plain": [
              "<matplotlib.image.AxesImage at 0x7fdbc0426668>"
            ]
          },
          "metadata": {
            "tags": []
          },
          "execution_count": 8
        },
        {
          "output_type": "display_data",
          "data": {
            "image/png": "[encoded data removed]",
            "text/plain": [
              "<Figure size 432x288 with 1 Axes>"
            ]
          },
          "metadata": {
            "tags": [],
            "needs_background": "light"
          }
        }
      ]
    },
    {
      "cell_type": "markdown",
      "metadata": {
        "id": "-AJt7CKHCyRj",
        "colab_type": "text"
      },
      "source": [
        "### The Discriminator"
      ]
    },
    {
      "cell_type": "markdown",
      "metadata": {
        "id": "lKWnnKHsC0IK",
        "colab_type": "text"
      },
      "source": [
        "Build an Image Classifier as if it would be used for simple MNIST Digit Classification. That's what Discriminator actually is. An Image Classifier."
      ]
    },
    {
      "cell_type": "code",
      "metadata": {
        "id": "iZItKy5vCt27",
        "colab_type": "code",
        "colab": {}
      },
      "source": [
        "def create_discriminator():\n",
        "  model = tf.keras.Sequential()\n",
        "\n",
        "  model.add(Conv2D(64, (5,5), strides=(2,2), padding='same',\n",
        "                   input_shape = [W, H, C]))\n",
        "  model.add(LeakyReLU())\n",
        "  model.add(Dropout(.3))\n",
        "\n",
        "  model.add(Conv2D(128, (5,5), strides=(2,2), padding='same'))\n",
        "  model.add(LeakyReLU())\n",
        "  model.add(Dropout(.3))\n",
        "\n",
        "  model.add(Flatten())\n",
        "  model.add(Dense(1))\n",
        "\n",
        "  return model"
      ],
      "execution_count": 0,
      "outputs": []
    },
    {
      "cell_type": "code",
      "metadata": {
        "id": "z8qFK3WYCNBj",
        "colab_type": "code",
        "outputId": "b6ed0788-be49-4992-dc03-82a6be66453a",
        "colab": {
          "base_uri": "https://localhost:8080/",
          "height": 425
        }
      },
      "source": [
        "## Viewing the Discriminator Model\n",
        "discriminator = create_discriminator()\n",
        "discriminator.summary()"
      ],
      "execution_count": 0,
      "outputs": [
        {
          "output_type": "stream",
          "text": [
            "Model: \"sequential_1\"\n",
            "_________________________________________________________________\n",
            "Layer (type)                 Output Shape              Param #   \n",
            "=================================================================\n",
            "conv2d (Conv2D)              (None, 14, 14, 64)        1664      \n",
            "_________________________________________________________________\n",
            "leaky_re_lu_3 (LeakyReLU)    (None, 14, 14, 64)        0         \n",
            "_________________________________________________________________\n",
            "dropout (Dropout)            (None, 14, 14, 64)        0         \n",
            "_________________________________________________________________\n",
            "conv2d_1 (Conv2D)            (None, 7, 7, 128)         204928    \n",
            "_________________________________________________________________\n",
            "leaky_re_lu_4 (LeakyReLU)    (None, 7, 7, 128)         0         \n",
            "_________________________________________________________________\n",
            "dropout_1 (Dropout)          (None, 7, 7, 128)         0         \n",
            "_________________________________________________________________\n",
            "flatten (Flatten)            (None, 6272)              0         \n",
            "_________________________________________________________________\n",
            "dense_1 (Dense)              (None, 1)                 6273      \n",
            "=================================================================\n",
            "Total params: 212,865\n",
            "Trainable params: 212,865\n",
            "Non-trainable params: 0\n",
            "_________________________________________________________________\n"
          ],
          "name": "stdout"
        }
      ]
    },
    {
      "cell_type": "markdown",
      "metadata": {
        "id": "JjST3lOHFmt6",
        "colab_type": "text"
      },
      "source": [
        "The discriminator should be able to classify the generated image as real or fake. The traning would be so that it outputs positive values for real images and negative values for fake images. "
      ]
    },
    {
      "cell_type": "code",
      "metadata": {
        "id": "ouLb4gDtFeik",
        "colab_type": "code",
        "outputId": "77ab0e5c-19d3-4937-c64f-dc2b01dee883",
        "colab": {
          "base_uri": "https://localhost:8080/",
          "height": 34
        }
      },
      "source": [
        "discriminator_output = discriminator(generator_output)\n",
        "print(discriminator_output)"
      ],
      "execution_count": 0,
      "outputs": [
        {
          "output_type": "stream",
          "text": [
            "tf.Tensor([[-0.00185508]], shape=(1, 1), dtype=float32)\n"
          ],
          "name": "stdout"
        }
      ]
    },
    {
      "cell_type": "markdown",
      "metadata": {
        "id": "ZI1keRjtHQ_9",
        "colab_type": "text"
      },
      "source": [
        "## Defining the Loss Functions and Optimizers"
      ]
    },
    {
      "cell_type": "code",
      "metadata": {
        "id": "XSX6VIyPGEa2",
        "colab_type": "code",
        "colab": {}
      },
      "source": [
        "## Need this in our generator and discriminator loss\n",
        "cross_entropy = tf.keras.losses.BinaryCrossentropy(from_logits=True)"
      ],
      "execution_count": 0,
      "outputs": []
    },
    {
      "cell_type": "markdown",
      "metadata": {
        "id": "fVqqcC2iIk1S",
        "colab_type": "text"
      },
      "source": [
        "### Discriminator Loss Function"
      ]
    },
    {
      "cell_type": "markdown",
      "metadata": {
        "id": "vo9myqleIqSa",
        "colab_type": "text"
      },
      "source": [
        "The loss function for the discriminator should quantify how well the discriminator can distinguish real images from fake images. So, we compare discriminator's output on real images to array of 1s, and fake images output to array of 0s."
      ]
    },
    {
      "cell_type": "code",
      "metadata": {
        "id": "QP3-8vuzIZ7c",
        "colab_type": "code",
        "colab": {}
      },
      "source": [
        "def discriminator_loss(real_output, fake_output):\n",
        "    real_loss = cross_entropy(tf.ones_like(real_output), real_output)\n",
        "    fake_loss = cross_entropy(tf.zeros_like(fake_output), fake_output)\n",
        "    return real_loss + fake_loss"
      ],
      "execution_count": 0,
      "outputs": []
    },
    {
      "cell_type": "markdown",
      "metadata": {
        "id": "WTGjkvFdJO7e",
        "colab_type": "text"
      },
      "source": [
        "### Generator Loss Function"
      ]
    },
    {
      "cell_type": "markdown",
      "metadata": {
        "id": "6MfhNXsyJSYD",
        "colab_type": "text"
      },
      "source": [
        "The loss function for the discriminator should quantify how well can it trick the discriminator. We compare discriminator's output on fake images to array of 1s. Thus while discriminator tries to make the output of fake images to 0 generator wants it to be 1. "
      ]
    },
    {
      "cell_type": "code",
      "metadata": {
        "id": "zGV4VxtWIao8",
        "colab_type": "code",
        "colab": {}
      },
      "source": [
        "def generator_loss(fake_output):\n",
        "    return cross_entropy(tf.ones_like(fake_output), fake_output)"
      ],
      "execution_count": 0,
      "outputs": []
    },
    {
      "cell_type": "markdown",
      "metadata": {
        "id": "Tn34ZtIwKB9H",
        "colab_type": "text"
      },
      "source": [
        "### Optimizers"
      ]
    },
    {
      "cell_type": "code",
      "metadata": {
        "id": "inyLjxt8JytZ",
        "colab_type": "code",
        "colab": {}
      },
      "source": [
        "# The generator and discriminator each gets its own optimizer\n",
        "generator_optimizer = tf.keras.optimizers.Adam(12e-5, .5)\n",
        "discriminator_optimizer = tf.keras.optimizers.Adam(12e-5, .5)"
      ],
      "execution_count": 0,
      "outputs": []
    },
    {
      "cell_type": "code",
      "metadata": {
        "id": "PcTmD-JLKL0h",
        "colab_type": "code",
        "colab": {}
      },
      "source": [
        "checkpoint_dir = './train_checkpoints'\n",
        "checkpoint_prefix = os.path.join(checkpoint_dir, \"ckpt\")\n",
        "\n",
        "checkpoint = tf.train.Checkpoint(generator_optimizer=generator_optimizer,\n",
        "                                 discriminator_optimizer=discriminator_optimizer,\n",
        "                                 generator=generator,\n",
        "                                 discriminator=discriminator)"
      ],
      "execution_count": 0,
      "outputs": []
    },
    {
      "cell_type": "markdown",
      "metadata": {
        "id": "Dj_gK4qsNtDi",
        "colab_type": "text"
      },
      "source": [
        "## Defining the Training Loop"
      ]
    },
    {
      "cell_type": "code",
      "metadata": {
        "id": "7N7Xt92NNExG",
        "colab_type": "code",
        "colab": {}
      },
      "source": [
        "## In order to compare our model performance we will use a fixed validation\n",
        "## seed to generate fixed number of images and see the output of it\n",
        "no_validation_images = 16\n",
        "validation_seed = tf.random.normal([no_validation_images, latent_noise_dim])"
      ],
      "execution_count": 0,
      "outputs": []
    },
    {
      "cell_type": "markdown",
      "metadata": {
        "id": "wBXg_sIqPFzy",
        "colab_type": "text"
      },
      "source": [
        "The training function for one batch receives a array of real images which is random BATCH_SIZE no of samples of train images.\n",
        "\n",
        "\n",
        "One batch of training function works like this: \n",
        "1. Prepare random noise of BATCH_SIZE, latent_dim_shape\n",
        "2. Get generated images from the generator\n",
        "3. Get output of dicriminator on Real and Fake (Generated) images\n",
        "4. Compute loss of generator and discriminator\n",
        "5. Propogate the loss for each model individually\n",
        "\n"
      ]
    },
    {
      "cell_type": "code",
      "metadata": {
        "id": "vOxmd_GiOjqw",
        "colab_type": "code",
        "colab": {}
      },
      "source": [
        "# Since it will be called repeatedly we use @tf.function annotation\n",
        "# This will compile the function saving execution time\n",
        "\n",
        "@tf.function\n",
        "def train_one_batch(real_images):\n",
        "  ## Generate random noise\n",
        "  random_noise = tf.random.normal([BATCH_SIZE, latent_noise_dim])\n",
        "\n",
        "  with tf.GradientTape() as gen_tape, tf.GradientTape() as disc_tape:\n",
        "    ## Generate images using Generator\n",
        "    generated_images = generator(random_noise, training = True)\n",
        "\n",
        "    ## Get the output of dicriminator on real and generate images\n",
        "    real_output = discriminator(real_images, training = True)\n",
        "    fake_output = discriminator(generated_images, training=True)\n",
        "\n",
        "    ## Get loss of generator and dicriminator\n",
        "    loss_generator = generator_loss(fake_output)\n",
        "    loss_dicriminator = discriminator_loss(real_output, fake_output)\n",
        "\n",
        "    ## Compute Gradients of generator and dicriminator\n",
        "    generator_gradients = gen_tape.gradient(loss_generator, \n",
        "                                            generator.trainable_variables)\n",
        "    discriminator_gradients = disc_tape.gradient(loss_dicriminator, \n",
        "                                                 discriminator.\\\n",
        "                                                 trainable_variables)\n",
        "    \n",
        "    ## Apply backprop using the computed gradients\n",
        "    generator_optimizer.apply_gradients(zip(generator_gradients,\n",
        "                                            generator.trainable_variables))\n",
        "    discriminator_optimizer.apply_gradients(zip(discriminator_gradients,\n",
        "                                                discriminator.\\\n",
        "                                                 trainable_variables))"
      ],
      "execution_count": 0,
      "outputs": []
    },
    {
      "cell_type": "code",
      "metadata": {
        "id": "lMuGiTfRUxuY",
        "colab_type": "code",
        "colab": {}
      },
      "source": [
        "def fit(dataset, epochs):\n",
        "  for epoch in range(1, epochs + 1):\n",
        "    for batch in dataset:\n",
        "      train_one_batch(batch)\n",
        "\n",
        "\n",
        "    display.clear_output(wait=True)\n",
        "    visualize_validation_output(generator, epoch, validation_seed)\n",
        "\n",
        "    if (epoch) % 10 == 0:\n",
        "      checkpoint.save(file_prefix = checkpoint_prefix)\n",
        "  \n",
        "  display.clear_output(wait=True)\n",
        "  visualize_validation_output(generator, epochs + 1, validation_seed)"
      ],
      "execution_count": 0,
      "outputs": []
    },
    {
      "cell_type": "markdown",
      "metadata": {
        "id": "pigaDxJ-YiQ7",
        "colab_type": "text"
      },
      "source": [
        "### Some helper functions used for image plotting"
      ]
    },
    {
      "cell_type": "code",
      "metadata": {
        "id": "w-hc57mLYgoV",
        "colab_type": "code",
        "colab": {}
      },
      "source": [
        "def visualize_validation_output(model, epoch, validation_seed):\n",
        "  generated_images = model(validation_seed, training = False)\n",
        "\n",
        "  fig = plt.figure(figsize = (4,4))\n",
        "\n",
        "  for i in range(generated_images.shape[0]):\n",
        "    plt.subplot(4, 4, i + 1)\n",
        "    plt.imshow((generated_images[i, :, :, 0] + 1) * 127.5, cmap = 'gray')\n",
        "    plt.axis('off')\n",
        "  \n",
        "  fig.suptitle('Output at epoch {:03}'.format(epoch))\n",
        "  plt.savefig('validation_images_{:03}.png'.format(epoch))\n",
        "  plt.show()"
      ],
      "execution_count": 0,
      "outputs": []
    },
    {
      "cell_type": "code",
      "metadata": {
        "id": "ElBQud2hXqKu",
        "colab_type": "code",
        "outputId": "12f69eea-3692-470f-ecf6-9ddef9db3505",
        "colab": {
          "base_uri": "https://localhost:8080/",
          "height": 277
        }
      },
      "source": [
        "fit(train_dataset, 100)"
      ],
      "execution_count": 0,
      "outputs": [
        {
          "output_type": "display_data",
          "data": {
            "image/png": "[encoded data removed]",
            "text/plain": [
              "<Figure size 288x288 with 16 Axes>"
            ]
          },
          "metadata": {
            "tags": [],
            "needs_background": "light"
          }
        }
      ]
    },
    {
      "cell_type": "markdown",
      "metadata": {
        "id": "LoUXhxfDiXsz",
        "colab_type": "text"
      },
      "source": [
        "## Creating GIF"
      ]
    },
    {
      "cell_type": "code",
      "metadata": {
        "id": "LtM2soQAidtL",
        "colab_type": "code",
        "colab": {}
      },
      "source": [
        "import glob\n",
        "import imageio"
      ],
      "execution_count": 0,
      "outputs": []
    },
    {
      "cell_type": "code",
      "metadata": {
        "id": "OnGoDKpjXtT_",
        "colab_type": "code",
        "colab": {}
      },
      "source": [
        "gif_file = 'model_behaviour.gif'\n",
        "\n",
        "with imageio.get_writer(gif_file, mode='I') as writer:\n",
        "  filenames = glob.glob('val*.png')\n",
        "  filenames = sorted(filenames)\n",
        "  last = -1\n",
        "  for i,filename in enumerate(filenames):\n",
        "    frame = 2*(i**0.5)\n",
        "    if round(frame) > round(last):\n",
        "      last = frame\n",
        "    else:\n",
        "      continue\n",
        "    image = imageio.imread(filename)\n",
        "    writer.append_data(image)\n",
        "  image = imageio.imread(filename)\n",
        "  writer.append_data(image)"
      ],
      "execution_count": 0,
      "outputs": []
    },
    {
      "cell_type": "code",
      "metadata": {
        "id": "ZCYSa0hkijwD",
        "colab_type": "code",
        "colab": {}
      },
      "source": [
        ""
      ],
      "execution_count": 0,
      "outputs": []
    }
  ]
}